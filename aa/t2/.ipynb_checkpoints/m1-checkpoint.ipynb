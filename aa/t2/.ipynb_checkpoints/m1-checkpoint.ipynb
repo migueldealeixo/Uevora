{
 "cells": [
  {
   "cell_type": "markdown",
   "metadata": {},
   "source": [
    "# Trabalho 2 de Aprendizagem Automática\n"
   ]
  },
  {
   "cell_type": "code",
   "execution_count": 48,
   "metadata": {},
   "outputs": [],
   "source": [
    "import pandas as pd\n",
    "import numpy as np\n",
    "from sklearn.metrics import accuracy_score\n",
    "from sklearn.ensemble import RandomForestClassifier\n",
    "from sklearn.ensemble import GradientBoostingClassifier\n",
    "from sklearn.svm import SVC\n",
    "import matplotlib.pylab as plt\n",
    "import seaborn as sns\n",
    "from sklearn.model_selection import RandomizedSearchCV\n",
    "from sklearn.model_selection import GridSearchCV\n",
    "from scipy.stats import uniform,randint\n",
    "from sklearn.neural_network import MLPClassifier"
   ]
  },
  {
   "cell_type": "code",
   "execution_count": null,
   "metadata": {},
   "outputs": [],
   "source": [
    "train = pd.read_csv('train.csv')\n",
    "test = pd.read_csv('test.csv')\n",
    "train.head()"
   ]
  },
  {
   "cell_type": "code",
   "execution_count": 16,
   "metadata": {},
   "outputs": [],
   "source": [
    "X_train = train.iloc[:, :-1].values\n",
    "y_train = train.iloc[:, -1].values\n",
    "X_test = test.values\n",
    "test_ID = test[\"id\"].values"
   ]
  },
  {
   "cell_type": "markdown",
   "metadata": {},
   "source": [
    "#### Random Forrest"
   ]
  },
  {
   "cell_type": "code",
   "execution_count": null,
   "metadata": {},
   "outputs": [],
   "source": [
    "n_estimators = [800, 900, 1000]\n",
    "criterion = ['gini', 'entropy']\n",
    "max_features = ['log2', 'sqrt']\n",
    "max_depth = [ 5,10,15]\n",
    "min_samples_split = [2, 5,10]\n",
    "min_samples_leaf = [1, 2, 4]\n",
    "bootstrap = [True, False]\n",
    "param_grid= {\n",
    "    'n_estimators': n_estimators,\n",
    "    'criterion': criterion,\n",
    "    'max_depth': max_depth,\n",
    "    'min_samples_split': min_samples_split,\n",
    "    'min_samples_leaf': min_samples_leaf,\n",
    "    'max_features': max_features,\n",
    "    'bootstrap': bootstrap\n",
    "}\n",
    "print(param_grid)\n"
   ]
  },
  {
   "cell_type": "code",
   "execution_count": 42,
   "metadata": {},
   "outputs": [],
   "source": [
    "\n",
    "rf_Model = RandomForestClassifier()"
   ]
  },
  {
   "cell_type": "code",
   "execution_count": null,
   "metadata": {},
   "outputs": [],
   "source": [
    "rf_grid_search = GridSearchCV(\n",
    "    estimator=rf_Model,\n",
    "    param_grid=param_grid,\n",
    "    cv=3,\n",
    "    verbose=2,\n",
    "    n_jobs=-1 \n",
    ")\n",
    "rf_grid_search.fit(X_train, y_train)\n",
    "rf_grid_search.best_params_"
   ]
  },
  {
   "cell_type": "code",
   "execution_count": null,
   "metadata": {},
   "outputs": [],
   "source": [
    "results_df = pd.DataFrame(rf_grid_search.cv_results_)\n",
    "heatmap_data1 = results_df.pivot_table(\n",
    "    index='param_max_depth',\n",
    "    columns='param_n_estimators',\n",
    "    values='mean_test_score'\n",
    ")\n",
    "plt.figure(figsize=(10, 8))\n",
    "sns.heatmap(heatmap_data1, annot=True, cmap='viridis', fmt=\".4f\")\n",
    "plt.title(\"HeatMap n_estimators vs max_depth\")\n",
    "plt.xlabel('n_estimators')\n",
    "plt.ylabel('max_depth')\n",
    "plt.show()"
   ]
  },
  {
   "cell_type": "code",
   "execution_count": null,
   "metadata": {},
   "outputs": [],
   "source": [
    "best_rf_model = rf_grid_search.best_estimator_"
   ]
  },
  {
   "cell_type": "markdown",
   "metadata": {},
   "source": [
    "#### Gradient Boosting Classifier"
   ]
  },
  {
   "cell_type": "code",
   "execution_count": null,
   "metadata": {},
   "outputs": [],
   "source": [
    "param_grid2 = {\n",
    "    'learning_rate': [0.005, 0.01, 0.02],\n",
    "    'max_depth': [2, 3, 4],\n",
    "    'max_features': ['sqrt', 'log2'],\n",
    "    'min_samples_leaf': [1, 2, 5],\n",
    "    'min_samples_split': [2, 5, 10],\n",
    "    'n_estimators': [900,1000,1200],\n",
    "    'subsample': [0.7, 0.8, 0.9]\n",
    "}\n",
    "print(param_grid2)"
   ]
  },
  {
   "cell_type": "code",
   "execution_count": 10,
   "metadata": {},
   "outputs": [],
   "source": [
    "gbc_model = GradientBoostingClassifier()"
   ]
  },
  {
   "cell_type": "code",
   "execution_count": null,
   "metadata": {},
   "outputs": [],
   "source": [
    "gbc_grid = GridSearchCV(\n",
    "    estimator= gbc_model,\n",
    "    param_grid=param_grid2,\n",
    "    cv=3,\n",
    "    verbose=2,\n",
    "    n_jobs=-1,\n",
    "    \n",
    ")\n",
    "gbc_grid.fit(X_train,y_train)\n",
    "gbc_grid.best_params_"
   ]
  },
  {
   "cell_type": "code",
   "execution_count": 37,
   "metadata": {},
   "outputs": [],
   "source": [
    "best_gbc_model = gbc_grid.best_estimator_"
   ]
  },
  {
   "cell_type": "markdown",
   "metadata": {},
   "source": [
    "#### Neural Network"
   ]
  },
  {
   "cell_type": "code",
   "execution_count": null,
   "metadata": {},
   "outputs": [],
   "source": [
    "param_grid3 = {\n",
    "    'hidden_layer_sizes': [(100,), (100, 50), (100, 100), (150, 100, 50)],\n",
    "    'activation': ['relu', 'tanh'],\n",
    "    'solver': ['adam'],\n",
    "    'learning_rate_init': [0.001, 0.0001],\n",
    "    'batch_size': [32, 64, 128],\n",
    "    'learning_rate': ['adaptive']\n",
    "}\n",
    "print(param_grid3)\n"
   ]
  },
  {
   "cell_type": "code",
   "execution_count": null,
   "metadata": {},
   "outputs": [],
   "source": [
    "mlpc_model = MLPClassifier()"
   ]
  },
  {
   "cell_type": "code",
   "execution_count": null,
   "metadata": {},
   "outputs": [],
   "source": [
    "mlp_grid = RandomizedSearchCV(\n",
    "    estimator=mlpc_model,\n",
    "    param_distributions=param_grid3,\n",
    "    cv=3,\n",
    "    n_iter=200,\n",
    "    random_state=42,\n",
    "    verbose=2,\n",
    "    n_jobs=-1,\n",
    "\n",
    ")\n",
    "mlp_grid.fit(X_train, y_train)\n",
    "mlp_grid.best_params_"
   ]
  },
  {
   "cell_type": "code",
   "execution_count": null,
   "metadata": {},
   "outputs": [],
   "source": [
    "best_mlp_model = mlp_grid.best_estimator_"
   ]
  },
  {
   "cell_type": "markdown",
   "metadata": {},
   "source": [
    "### Modelo RandomForrest "
   ]
  },
  {
   "cell_type": "code",
   "execution_count": null,
   "metadata": {},
   "outputs": [],
   "source": [
    "RF = RandomForestClassifier(n_estimators=600,\n",
    "    criterion='entropy',\n",
    "    min_samples_split= 5,\n",
    "    min_samples_leaf= 2,\n",
    "    max_features= 'sqrt',\n",
    "    max_depth= 10,\n",
    "    bootstrap= False\n",
    ")\n",
    "RF.fit(X_train,y_train)\n",
    "y_pred = best_rf_model.predict(X_test)\n",
    "print(f'Exatidao de Teste -: {RF.score(X_train,y_train):.3f}')"
   ]
  },
  {
   "cell_type": "markdown",
   "metadata": {},
   "source": [
    "### Modelo Gradient Boosting"
   ]
  },
  {
   "cell_type": "code",
   "execution_count": null,
   "metadata": {},
   "outputs": [],
   "source": [
    "GBC = GradientBoostingClassifier(\n",
    "    learning_rate= 0.05,\n",
    "    max_depth= 5,\n",
    "    max_features= 'sqrt',\n",
    "    min_samples_leaf= 2,\n",
    "    min_samples_split= 5,\n",
    "    n_estimators= 1000,\n",
    "    subsample= 0.8\n",
    "    )\n",
    "GBC.fit(X_train,y_train)\n",
    "y_pred2 = GBC.predict(X_test)\n",
    "print(f'Exatidão do Teste -: {GBC.score(X_train,y_train):.3f}')"
   ]
  },
  {
   "cell_type": "markdown",
   "metadata": {},
   "source": [
    "### Criação do ficheiro de submissão"
   ]
  },
  {
   "cell_type": "code",
   "execution_count": 67,
   "metadata": {},
   "outputs": [],
   "source": [
    "ids_for_test = test['id']\n",
    "\n",
    "submissao = pd.DataFrame({\n",
    "    \"id\": ids_for_test,\n",
    "    \"floresta\": y_pred\n",
    "})\n",
    "submissao.to_csv('submissao4.csv', index=False)\n",
    "\n"
   ]
  },
  {
   "cell_type": "code",
   "execution_count": 27,
   "metadata": {},
   "outputs": [],
   "source": [
    "ids_for_test = test['id']\n",
    "submissaoGBC = pd.DataFrame({\n",
    "    \"id\": ids_for_test,\n",
    "    \"floresta\": y_pred2\n",
    "})\n",
    "submissaoGBC.to_csv('submissaoGBC2.csv',index=False)"
   ]
  }
 ],
 "metadata": {
  "kernelspec": {
   "display_name": ".venv",
   "language": "python",
   "name": "python3"
  },
  "language_info": {
   "codemirror_mode": {
    "name": "ipython",
    "version": 3
   },
   "file_extension": ".py",
   "mimetype": "text/x-python",
   "name": "python",
   "nbconvert_exporter": "python",
   "pygments_lexer": "ipython3",
   "version": "3.12.3"
  }
 },
 "nbformat": 4,
 "nbformat_minor": 2
}
